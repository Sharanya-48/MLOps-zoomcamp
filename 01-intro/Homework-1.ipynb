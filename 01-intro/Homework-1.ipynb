{
 "cells": [
  {
   "cell_type": "code",
   "execution_count": 1,
   "id": "34833cbe",
   "metadata": {},
   "outputs": [],
   "source": [
    "import pandas as pd\n",
    "import numpy as np\n",
    "import sklearn\n",
    "import math"
   ]
  },
  {
   "cell_type": "code",
   "execution_count": 3,
   "id": "d9f240a6",
   "metadata": {},
   "outputs": [
    {
     "data": {
      "text/plain": [
       "'1.4.2'"
      ]
     },
     "execution_count": 3,
     "metadata": {},
     "output_type": "execute_result"
    }
   ],
   "source": [
    "pd.__version__"
   ]
  },
  {
   "cell_type": "code",
   "execution_count": 7,
   "id": "0f26dc4e",
   "metadata": {},
   "outputs": [
    {
     "name": "stdout",
     "output_type": "stream",
     "text": [
      "Collecting pyarrow\n",
      "  Downloading pyarrow-16.1.0-cp39-cp39-manylinux_2_28_x86_64.whl (40.8 MB)\n",
      "\u001b[K     |████████████████████████████████| 40.8 MB 78 kB/s  eta 0:00:01\n",
      "\u001b[?25hRequirement already satisfied: numpy>=1.16.6 in /home/codespace/anaconda3/lib/python3.9/site-packages (from pyarrow) (1.21.5)\n",
      "Installing collected packages: pyarrow\n",
      "Successfully installed pyarrow-16.1.0\n"
     ]
    }
   ],
   "source": [
    "!pip install pyarrow"
   ]
  },
  {
   "cell_type": "code",
   "execution_count": 2,
   "id": "eb2af120",
   "metadata": {},
   "outputs": [],
   "source": [
    "from sklearn.feature_extraction import DictVectorizer\n",
    "from sklearn.linear_model import LinearRegression\n",
    "from sklearn.linear_model import Lasso\n",
    "from sklearn.linear_model import Ridge\n",
    "\n",
    "from sklearn.metrics import mean_squared_error"
   ]
  },
  {
   "cell_type": "code",
   "execution_count": 6,
   "id": "85d46d8b",
   "metadata": {},
   "outputs": [],
   "source": [
    "df_jan_2022=pd.read_parquet('https://d37ci6vzurychx.cloudfront.net/trip-data/yellow_tripdata_2022-01.parquet')"
   ]
  },
  {
   "cell_type": "code",
   "execution_count": 7,
   "id": "4d45be4b",
   "metadata": {},
   "outputs": [
    {
     "data": {
      "text/plain": [
       "(2463931, 19)"
      ]
     },
     "execution_count": 7,
     "metadata": {},
     "output_type": "execute_result"
    }
   ],
   "source": [
    "df_jan_2022.shape\n",
    "#(rows,columns)"
   ]
  },
  {
   "cell_type": "code",
   "execution_count": 4,
   "id": "c4f72832",
   "metadata": {},
   "outputs": [
    {
     "data": {
      "text/plain": [
       "46.44530513776499"
      ]
     },
     "execution_count": 4,
     "metadata": {},
     "output_type": "execute_result"
    }
   ],
   "source": [
    "df_jan_2022['duration']=df_jan_2022['tpep_dropoff_datetime']-df_jan_2022['tpep_pickup_datetime']\n",
    "df_jan_2022['duration']=df_jan_2022['duration'].dt.total_seconds()/60\n",
    "df_jan_2022['duration'].std()\n",
    "#standard-deviation"
   ]
  },
  {
   "cell_type": "code",
   "execution_count": 38,
   "id": "cad6756e",
   "metadata": {},
   "outputs": [
    {
     "data": {
      "text/plain": [
       "0          17.816667\n",
       "1           8.400000\n",
       "2           8.966667\n",
       "3          10.033333\n",
       "4          37.533333\n",
       "             ...    \n",
       "2463926     5.966667\n",
       "2463927    10.650000\n",
       "2463928    11.000000\n",
       "2463929    12.050000\n",
       "2463930    27.000000\n",
       "Name: duration, Length: 2463931, dtype: float64"
      ]
     },
     "metadata": {},
     "output_type": "display_data"
    }
   ],
   "source": [
    "display(df_jan_2022['duration'])"
   ]
  },
  {
   "cell_type": "code",
   "execution_count": 5,
   "id": "878758ec",
   "metadata": {},
   "outputs": [
    {
     "data": {
      "text/plain": [
       "98.2721512899509"
      ]
     },
     "metadata": {},
     "output_type": "display_data"
    }
   ],
   "source": [
    "filtered_values = np.where((df_jan_2022['duration']>=1.0) & (df_jan_2022['duration']< 60.0))\n",
    "\n",
    "display((df_jan_2022.loc[filtered_values].shape[0]/df_jan_2022.shape[0])*100)\n",
    "#fraction of the records left after you dropped the outliers\n",
    "df_jan_2022=df_jan_2022.iloc[filtered_values]"
   ]
  },
  {
   "cell_type": "code",
   "execution_count": 6,
   "id": "d1b5980e",
   "metadata": {},
   "outputs": [],
   "source": [
    "cat=['PULocationID','DOLocationID']\n",
    "#one_hot_encoded_data = pd.get_dummies(df_jan_2022, columns = ['PULocationID', 'DOLocationID'])\n",
    "#print(one_hot_encoded_data)\n",
    "list_of_dicts=df_jan_2022[cat].astype(str).to_dict(orient='records')\n"
   ]
  },
  {
   "cell_type": "code",
   "execution_count": 7,
   "id": "c9be9d0a",
   "metadata": {},
   "outputs": [
    {
     "data": {
      "text/plain": [
       "(2421358, 515)"
      ]
     },
     "execution_count": 7,
     "metadata": {},
     "output_type": "execute_result"
    }
   ],
   "source": [
    "v = DictVectorizer()\n",
    "x_train=v.fit_transform(list_of_dicts)\n",
    "x_train.shape\n",
    "#one_hot_encoding"
   ]
  },
  {
   "cell_type": "code",
   "execution_count": 8,
   "id": "4729d464",
   "metadata": {},
   "outputs": [
    {
     "data": {
      "text/plain": [
       "LinearRegression()"
      ]
     },
     "execution_count": 8,
     "metadata": {},
     "output_type": "execute_result"
    }
   ],
   "source": [
    "import matplotlib.pyplot as pt\n",
    "y_train=df_jan_2022['duration']\n",
    "#pt.scatter(y_train,x_train[:,0])\n",
    "lr=LinearRegression()\n",
    "lr.fit(x_train,y_train)"
   ]
  },
  {
   "cell_type": "code",
   "execution_count": 10,
   "id": "9ef3c4bb",
   "metadata": {},
   "outputs": [
    {
     "data": {
      "text/plain": [
       "6.985302773997786"
      ]
     },
     "execution_count": 10,
     "metadata": {},
     "output_type": "execute_result"
    }
   ],
   "source": [
    "y_pred=lr.predict(x_train)\n",
    "math.sqrt(mean_squared_error(y_train, y_pred))\n",
    "#RMSE of train data"
   ]
  },
  {
   "cell_type": "code",
   "execution_count": 3,
   "id": "874bc1bb",
   "metadata": {},
   "outputs": [],
   "source": [
    "df_feb_2022=pd.read_parquet('https://d37ci6vzurychx.cloudfront.net/trip-data/yellow_tripdata_2022-02.parquet')\n",
    "df_feb_2022['duration']=df_feb_2022['tpep_dropoff_datetime']-df_feb_2022['tpep_pickup_datetime']\n",
    "df_feb_2022['duration']=df_feb_2022['duration'].dt.total_seconds()/60\n",
    "filtered_values = np.where((df_feb_2022['duration']>=1.0) & (df_feb_2022['duration']< 60.0))\n",
    "df_feb_2022_fil=df_feb_2022.iloc[filtered_values]"
   ]
  },
  {
   "cell_type": "code",
   "execution_count": 4,
   "id": "463ea2db",
   "metadata": {},
   "outputs": [
    {
     "data": {
      "text/plain": [
       "7.63877214229613"
      ]
     },
     "execution_count": 4,
     "metadata": {},
     "output_type": "execute_result"
    }
   ],
   "source": [
    "cat=['PULocationID','DOLocationID']\n",
    "#one_hot_encoded_data = pd.get_dummies(df_jan_2022, columns = ['PULocationID', 'DOLocationID'])\n",
    "#print(one_hot_encoded_data)\n",
    "list_of_dicts1=df_feb_2022_fil[cat].astype(str).to_dict(orient='records')\n",
    "v = DictVectorizer()\n",
    "x_train_1=v.fit_transform(list_of_dicts1)\n",
    "y_train_1=df_feb_2022_fil['duration']\n",
    "\n",
    "lr=LinearRegression()\n",
    "lr.fit(x_train_1,y_train_1)\n",
    "y_pred_1=lr.predict(x_train_1)\n",
    "math.sqrt(mean_squared_error(y_train_1, y_pred_1))"
   ]
  }
 ],
 "metadata": {
  "kernelspec": {
   "display_name": "Python 3 (ipykernel)",
   "language": "python",
   "name": "python3"
  },
  "language_info": {
   "codemirror_mode": {
    "name": "ipython",
    "version": 3
   },
   "file_extension": ".py",
   "mimetype": "text/x-python",
   "name": "python",
   "nbconvert_exporter": "python",
   "pygments_lexer": "ipython3",
   "version": "3.9.12"
  }
 },
 "nbformat": 4,
 "nbformat_minor": 5
}
